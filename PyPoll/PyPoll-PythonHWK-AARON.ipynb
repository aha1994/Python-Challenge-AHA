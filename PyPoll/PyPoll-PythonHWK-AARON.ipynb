{
 "cells": [
  {
   "cell_type": "code",
   "execution_count": 3,
   "metadata": {},
   "outputs": [],
   "source": [
    "import csv\n",
    "import os"
   ]
  },
  {
   "cell_type": "code",
   "execution_count": 4,
   "metadata": {},
   "outputs": [],
   "source": [
    "path = os.path.join(\"Resources\", \"election_data.csv\")"
   ]
  },
  {
   "cell_type": "code",
   "execution_count": 32,
   "metadata": {},
   "outputs": [
    {
     "name": "stdout",
     "output_type": "stream",
     "text": [
      "Election Results\n",
      "----------------------------\n",
      "Total Votes: 3521001\n",
      "----------------------------\n",
      "Khan: 63.0% (2218231)\n",
      "Correy: 20.0% (704200)\n",
      "Li: 14.0% (492940)\n",
      "O'Tooley: 3.0% (105630)\n",
      "----------------------------\n",
      "Winner: Khan\n",
      "----------------------------\n"
     ]
    }
   ],
   "source": [
    "with open(path, 'r') as pdata:\n",
    "    csvreader = csv.reader(pdata, delimiter=',')\n",
    "    csv_head = next(csvreader)\n",
    "    voter_ids = []\n",
    "    votes_received = []\n",
    "    for each in csvreader:\n",
    "        voter_ids.append(each[0])\n",
    "        votes_received.append(each[2])\n",
    "    ovotes = 0\n",
    "    kvotes = 0\n",
    "    lvotes = 0\n",
    "    cvotes = 0\n",
    "    for vote in votes_received:\n",
    "        if vote == \"O'Tooley\":\n",
    "            ovotes += 1\n",
    "        elif vote == 'Khan':\n",
    "            kvotes += 1\n",
    "        elif vote == 'Li':\n",
    "            lvotes += 1\n",
    "        elif vote == 'Correy':\n",
    "            cvotes += 1\n",
    "    results = {\n",
    "        \"O'Tooley\": ovotes,\n",
    "        'Khan': kvotes,\n",
    "        'Li': lvotes,\n",
    "        'Correy': cvotes,\n",
    "    }\n",
    "    num_votes = len(voter_ids)\n",
    "    candidates = set(votes_received)\n",
    "    per_otooley = round(((ovotes/num_votes)*100), 4)\n",
    "    per_khan = round(((kvotes/num_votes)*100), 4)\n",
    "    per_li = round(((lvotes/num_votes)*100), 4)\n",
    "    per_correy = round(((cvotes/num_votes)*100), 4)\n",
    "    winner = ''\n",
    "    if ovotes > kvotes and ovotes > lvotes and ovotes >cvotes:\n",
    "        winner = \"O'Tooley\"\n",
    "    elif kvotes > ovotes and kvotes > lvotes and kvotes > cvotes:\n",
    "        winner = 'Khan'\n",
    "    elif lvotes > ovotes and lvotes > kvotes and lvotes > cvotes:\n",
    "        winner = 'Li'\n",
    "    else:\n",
    "        winner = 'Correy'\n",
    "    print('Election Results\\n----------------------------')\n",
    "    print('Total Votes: %s\\n----------------------------' % num_votes)\n",
    "    print('Khan: {}% ({})'.format(per_khan, kvotes))\n",
    "    print('Correy: {}% ({})'.format(per_correy, cvotes))\n",
    "    print('Li: {}% ({})'.format(per_li, lvotes))\n",
    "    print(\"O'Tooley: {}% ({})\".format(per_otooley, ovotes))\n",
    "    print(\"----------------------------\\nWinner: %s\\n----------------------------\" % winner)\n",
    "    with open(\"election_results.txt\", 'w') as results:\n",
    "        results.write('Election Results\\n----------------------------\\n')\n",
    "        results.write('Total Votes: %s\\n----------------------------\\n' % num_votes)\n",
    "        results.write('Khan: {}% ({})\\n'.format(per_khan, kvotes))\n",
    "        results.write('Correy: {}% ({})\\n'.format(per_correy, cvotes))\n",
    "        results.write('Li: {}% ({})\\n'.format(per_li, lvotes))\n",
    "        results.write(\"O'Tooley: {}% ({})\\n\".format(per_otooley, ovotes))\n",
    "        results.write(\"----------------------------\\nWinner: %s\\n----------------------------\" % winner)"
   ]
  },
  {
   "cell_type": "code",
   "execution_count": null,
   "metadata": {},
   "outputs": [],
   "source": []
  }
 ],
 "metadata": {
  "kernelspec": {
   "display_name": "Python 3",
   "language": "python",
   "name": "python3"
  },
  "language_info": {
   "codemirror_mode": {
    "name": "ipython",
    "version": 3
   },
   "file_extension": ".py",
   "mimetype": "text/x-python",
   "name": "python",
   "nbconvert_exporter": "python",
   "pygments_lexer": "ipython3",
   "version": "3.7.3"
  }
 },
 "nbformat": 4,
 "nbformat_minor": 4
}
