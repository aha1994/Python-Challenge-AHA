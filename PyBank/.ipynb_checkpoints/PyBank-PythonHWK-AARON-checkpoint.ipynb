{
 "cells": [
  {
   "cell_type": "code",
   "execution_count": 111,
   "metadata": {},
   "outputs": [],
   "source": [
    "# import dependencies\n",
    "import os\n",
    "import csv"
   ]
  },
  {
   "cell_type": "code",
   "execution_count": 112,
   "metadata": {},
   "outputs": [],
   "source": [
    "# make path to csv\n",
    "path = os.path.join(\"Resources\", \"budget_data.csv\")"
   ]
  },
  {
   "cell_type": "code",
   "execution_count": 136,
   "metadata": {},
   "outputs": [
    {
     "name": "stdout",
     "output_type": "stream",
     "text": [
      "Financial Analysis\n",
      "---------------------------------------------------\n",
      "Total Months: 86\n",
      "Total: 38382578\n",
      "Average  Change: $-2315.12\n",
      "Greatest Increase in Profits: Feb-2012 ($1926159)\n",
      "Greatest Decrease in Profits: Sep-2013 ($-2196167)\n"
     ]
    }
   ],
   "source": [
    "# read the csv file\n",
    "with open(path, 'r', newline='') as bdata:\n",
    "    csvreader = csv.reader(bdata, delimiter=',')\n",
    "    csv_head = next(csvreader)\n",
    "    \n",
    "    # initialize variables to hold the month and loss/profit for that month\n",
    "    months = []\n",
    "    net_change = []\n",
    "    for each in csvreader:\n",
    "        months.append(each[0])\n",
    "        net_change.append(int(each[1]))\n",
    "        \n",
    "    # basic calcs\n",
    "    month_num = len(net_change)\n",
    "    net_total = sum(net_change)\n",
    "    change = [int(j-i) for i, j in zip(net_change[:-1], net_change[1:])]\n",
    "    avg_change = round((sum(change)/len(change)),2)\n",
    "    max_inc = max(change)\n",
    "    max_dec = min(change)\n",
    "    max_inc_month = months[(change.index(max_inc) + 1)]\n",
    "    max_dec_month = months[(change.index(max_dec) + 1)]\n",
    "    \n",
    "    # Final Analysis printed to console\n",
    "    print(\"Financial Analysis\\n---------------------------------------------------\")\n",
    "    print(\"Total Months: %s\" % month_num)\n",
    "    print(\"Total: %s\" % net_total)\n",
    "    print(\"Average  Change: $%s\" % avg_change)\n",
    "    print(\"Greatest Increase in Profits: %s ($%s)\" % (max_inc_month, max_inc))\n",
    "    print(\"Greatest Decrease in Profits: %s ($%s)\" % (max_dec_month, max_dec))\n",
    "    \n",
    "    # store analysis in a text file\n",
    "    with open(\"financial_analysis.txt\", 'w') as text:\n",
    "        text.write(\"Financial Analysis\\n---------------------------------------------------\\n\")\n",
    "        text.write(\"Total Months: %s\\n\" % month_num)\n",
    "        text.write(\"Average  Change: $%s\\n\" % avg_change)\n",
    "        text.write(\"Greatest Increase in Profits: %s ($%s)\\n\" % (max_inc_month, max_inc))\n",
    "        text.write(\"Greatest Decrease in Profits: %s ($%s)\\n\" % (max_dec_month, max_dec))"
   ]
  },
  {
   "cell_type": "code",
   "execution_count": null,
   "metadata": {},
   "outputs": [],
   "source": []
  }
 ],
 "metadata": {
  "kernelspec": {
   "display_name": "Python 3",
   "language": "python",
   "name": "python3"
  },
  "language_info": {
   "codemirror_mode": {
    "name": "ipython",
    "version": 3
   },
   "file_extension": ".py",
   "mimetype": "text/x-python",
   "name": "python",
   "nbconvert_exporter": "python",
   "pygments_lexer": "ipython3",
   "version": "3.7.3"
  }
 },
 "nbformat": 4,
 "nbformat_minor": 4
}
